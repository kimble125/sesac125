{
 "cells": [
  {
   "cell_type": "markdown",
   "id": "f5815d4a",
   "metadata": {},
   "source": [
    "# 프로젝트명: 따릉이 인기 대여소 및 대여기간 파악"
   ]
  },
  {
   "cell_type": "markdown",
   "id": "ead5d767",
   "metadata": {},
   "source": [
    "## Ⅰ 문제 및 프로젝트 정의 "
   ]
  },
  {
   "cell_type": "markdown",
   "id": "eb79c169",
   "metadata": {},
   "source": [
    "### 1. 배경\n",
    "2015년에 시작된 서울의 공공 자전거 공유 프로그램인 따릉이는 현재 서울 전역에 2,000개가 넘는 대여소를 운영하고 있습니다. 따릉이는 시민과 관광객 모두에게 인기 있는 교통수단으로 자리 잡았으며, 자동차와 대중교통을 대체하는 친환경적인 대안을 제시하고 있습니다다.\n",
    "\n",
    "그러나 시스템이 확장됨에 따라 몇 가지 과제가 발생했습니다.\n",
    "\n",
    "공급 불균형: 일부 대여소는 출퇴근 시간에 자전거가 부족한 경우가 많고, 다른 대여소는 활용도가 낮습니다.\n",
    "\n",
    "긴 대여 기간: 특정 지역의 자전거 대여 기간이 길어 자전거 또는 대여 시설에 대한 잠재적 수요가 있음을 시사합니다."
   ]
  },
  {
   "cell_type": "markdown",
   "id": "f81d2fc1",
   "metadata": {},
   "source": [
    "### 2. 목표 설정\n",
    "자전거 유통 및 대여소 관리를 최적화하기 위한 실행 가능한 인사이트를 제공합니다.\n",
    "\n",
    "- 대여 건수를 기준으로 가장 인기 있는 대여소를 파악\n",
    "\n",
    "- 각 대여소의 대여 기간을 분석하여 사용 패턴을 파악\n",
    "\n",
    "### 이를 통해 다음과 같은 산출물을 제작합니다.\n",
    "\n",
    "- 데이터 분석 보고서, 배경 및 목표 설정 등(README.md)\n",
    "\n",
    "- 데이터 탐색 및 시각화를 위한 Python 코드가 포함된 데이터 전처리 스크립트 및 EDA 노트북(Python script)\n",
    "\n",
    "- 시각화(정적 및 대화형): 막대 차트, 상자 그림, 히트맵, 지도(Jupyter Notebook)\n",
    "\n",
    "- 통계 분석 기반 가설 검정 결과(Python script)\n",
    "\n",
    "- 자전거 배포 및 정류장 관리 최적화를 위한 실행 가능한 인사이트 및 권장 사항(README.md or insights_and_recommendations.pdf)\n",
    "\n",
    "- 모든 코드, 노트북 및 문서가 포함된 GitHub 저장소"
   ]
  },
  {
   "cell_type": "markdown",
   "id": "5d0c65a7",
   "metadata": {},
   "source": [
    "### 3. 가설 설정\n",
    "가설 1:\n",
    "\n",
    "\"중심가 및 교통량이 많은 지역(예: 강남, 이태원)에 위치한 자전거 대여소가 가장 많을 것이다.\"\n",
    "\n",
    "근거: 인구 밀도가 높고 상업 활동이 활발한 중심가에서 자전거 대여량이 더 많을 가능성이 높다. 본 연구의 목표는 이러한 추세를 구체적인 데이터로 확인하는 것이다.\n",
    "\n",
    "가설 2:\n",
    "\n",
    "\"주거 지역의 자전거 대여소는 상업 지역의 자전거 대여소보다 평균 대여 기간이 더 길 것이다.\"\n",
    "\n",
    "근거: 주거 지역의 사람들은 출퇴근이나 심부름과 같은 장거리 이동을 위해 자전거를 대여할 수 있다. 반면, 상업 지역의 자전거 대여소는 주로 단거리 이동동에 사용되어 대여 시간이 더 짧을 수 있다.\n",
    "\n",
    "가설 3:\n",
    "\n",
    "\"주중 출퇴근 시간(오전 7시~9시, 오후 5시~7시)에는 대여 활동이 더 많고 주말과 야간에는 더 적을 것이다.\"\n",
    "\n",
    "근거: 데이터는 평일 아침과 저녁 러시아워에 자전거 대여량이 급증하고, 야간과 주말에는 이용률이 낮아질 것으로 예상된다.\n",
    "\n",
    "가설 4:\n",
    "\n",
    "\"대여 건수가 가장 많은 정류장은 다양한 이용자 집단(빠른 통근자와 일반 자전거 이용자 모두)을 대상으로 하기 때문에 대여 기간의 변동성이 더 클 것이다.\"\n",
    "\n",
    "근거: 인기 정류장은 단기 및 장기 대여가 혼합되어 있을 가능성이 높으므로 대여 기간이 더 다양할 것이다.\n"
   ]
  },
  {
   "cell_type": "markdown",
   "id": "325c4c83",
   "metadata": {},
   "source": [
    "## ⅠⅠ 데이터 수집 및 가공"
   ]
  },
  {
   "cell_type": "markdown",
   "id": "fe27415a",
   "metadata": {},
   "source": []
  },
  {
   "cell_type": "markdown",
   "id": "c25994f3",
   "metadata": {},
   "source": [
    "판다스, 넘파이, 맷플롯립, 시본, 폴리움, 사이파이, 오픈엑셀 설치"
   ]
  },
  {
   "cell_type": "code",
   "execution_count": 21,
   "id": "35173e3d",
   "metadata": {},
   "outputs": [
    {
     "name": "stdout",
     "output_type": "stream",
     "text": [
      "Requirement already satisfied: pandas in c:\\users\\el76\\anaconda3\\envs\\py313\\lib\\site-packages (2.2.3)\n",
      "Requirement already satisfied: numpy in c:\\users\\el76\\anaconda3\\envs\\py313\\lib\\site-packages (2.2.6)\n",
      "Requirement already satisfied: matplotlib in c:\\users\\el76\\anaconda3\\envs\\py313\\lib\\site-packages (3.10.3)\n",
      "Requirement already satisfied: seaborn in c:\\users\\el76\\anaconda3\\envs\\py313\\lib\\site-packages (0.13.2)\n",
      "Requirement already satisfied: folium in c:\\users\\el76\\anaconda3\\envs\\py313\\lib\\site-packages (0.19.6)\n",
      "Requirement already satisfied: scipy in c:\\users\\el76\\anaconda3\\envs\\py313\\lib\\site-packages (1.15.3)\n",
      "Requirement already satisfied: openpyxl in c:\\users\\el76\\anaconda3\\envs\\py313\\lib\\site-packages (3.1.5)\n",
      "Requirement already satisfied: python-dateutil>=2.8.2 in c:\\users\\el76\\appdata\\roaming\\python\\python313\\site-packages (from pandas) (2.9.0.post0)\n",
      "Requirement already satisfied: pytz>=2020.1 in c:\\users\\el76\\anaconda3\\envs\\py313\\lib\\site-packages (from pandas) (2025.2)\n",
      "Requirement already satisfied: tzdata>=2022.7 in c:\\users\\el76\\anaconda3\\envs\\py313\\lib\\site-packages (from pandas) (2025.2)\n",
      "Requirement already satisfied: contourpy>=1.0.1 in c:\\users\\el76\\anaconda3\\envs\\py313\\lib\\site-packages (from matplotlib) (1.3.2)\n",
      "Requirement already satisfied: cycler>=0.10 in c:\\users\\el76\\anaconda3\\envs\\py313\\lib\\site-packages (from matplotlib) (0.12.1)\n",
      "Requirement already satisfied: fonttools>=4.22.0 in c:\\users\\el76\\anaconda3\\envs\\py313\\lib\\site-packages (from matplotlib) (4.58.0)\n",
      "Requirement already satisfied: kiwisolver>=1.3.1 in c:\\users\\el76\\anaconda3\\envs\\py313\\lib\\site-packages (from matplotlib) (1.4.8)\n",
      "Requirement already satisfied: packaging>=20.0 in c:\\users\\el76\\appdata\\roaming\\python\\python313\\site-packages (from matplotlib) (25.0)\n",
      "Requirement already satisfied: pillow>=8 in c:\\users\\el76\\anaconda3\\envs\\py313\\lib\\site-packages (from matplotlib) (11.2.1)\n",
      "Requirement already satisfied: pyparsing>=2.3.1 in c:\\users\\el76\\anaconda3\\envs\\py313\\lib\\site-packages (from matplotlib) (3.2.3)\n",
      "Requirement already satisfied: branca>=0.6.0 in c:\\users\\el76\\anaconda3\\envs\\py313\\lib\\site-packages (from folium) (0.8.1)\n",
      "Requirement already satisfied: jinja2>=2.9 in c:\\users\\el76\\anaconda3\\envs\\py313\\lib\\site-packages (from folium) (3.1.6)\n",
      "Requirement already satisfied: requests in c:\\users\\el76\\anaconda3\\envs\\py313\\lib\\site-packages (from folium) (2.32.3)\n",
      "Requirement already satisfied: xyzservices in c:\\users\\el76\\anaconda3\\envs\\py313\\lib\\site-packages (from folium) (2025.4.0)\n",
      "Requirement already satisfied: et-xmlfile in c:\\users\\el76\\anaconda3\\envs\\py313\\lib\\site-packages (from openpyxl) (2.0.0)\n",
      "Requirement already satisfied: MarkupSafe>=2.0 in c:\\users\\el76\\anaconda3\\envs\\py313\\lib\\site-packages (from jinja2>=2.9->folium) (3.0.2)\n",
      "Requirement already satisfied: six>=1.5 in c:\\users\\el76\\appdata\\roaming\\python\\python313\\site-packages (from python-dateutil>=2.8.2->pandas) (1.17.0)\n",
      "Requirement already satisfied: charset-normalizer<4,>=2 in c:\\users\\el76\\anaconda3\\envs\\py313\\lib\\site-packages (from requests->folium) (3.4.2)\n",
      "Requirement already satisfied: idna<4,>=2.5 in c:\\users\\el76\\anaconda3\\envs\\py313\\lib\\site-packages (from requests->folium) (3.10)\n",
      "Requirement already satisfied: urllib3<3,>=1.21.1 in c:\\users\\el76\\anaconda3\\envs\\py313\\lib\\site-packages (from requests->folium) (2.4.0)\n",
      "Requirement already satisfied: certifi>=2017.4.17 in c:\\users\\el76\\anaconda3\\envs\\py313\\lib\\site-packages (from requests->folium) (2025.4.26)\n",
      "Note: you may need to restart the kernel to use updated packages.\n"
     ]
    }
   ],
   "source": [
    "pip install pandas numpy matplotlib seaborn folium scipy openpyxl"
   ]
  },
  {
   "cell_type": "markdown",
   "id": "7c6afbf3",
   "metadata": {},
   "source": [
    "### 1. 기존 데이터 파악 및 concat"
   ]
  },
  {
   "cell_type": "code",
   "execution_count": 7,
   "id": "44b87da9",
   "metadata": {},
   "outputs": [
    {
     "name": "stdout",
     "output_type": "stream",
     "text": [
      "       자전거번호             대여일시  대여 대여소번호            대여 대여소명  이용시간  이용거리\n",
      "0  SPB-22040  2019-06-03 8:49       646  장한평역 1번출구 (국민은행앞)    27  1330\n",
      "1  SPB-07446  2019-06-03 8:33       526           용답토속공원 앞    54  1180\n",
      "2  SPB-20387  2019-06-05 8:27       646  장한평역 1번출구 (국민은행앞)    12  1930\n",
      "3  SPB-16794  2019-06-05 8:46       646  장한평역 1번출구 (국민은행앞)     6  1340\n",
      "4  SPB-18266  2019-06-10 8:27       529       장한평역 8번 출구 앞     5  1230\n",
      "    구분  대여소번호              대여소명         위도          경도  거치대수\n",
      "0  마포구    101  101. (구)합정동 주민센터  37.549561  126.905754     5\n",
      "1  마포구    102   102. 망원역 1번출구 앞  37.556000  126.910454    20\n",
      "2  마포구    103   103. 망원역 2번출구 앞  37.554951  126.910835    14\n",
      "3  마포구    104   104. 합정역 1번출구 앞  37.550629  126.914986    13\n",
      "4  마포구    105   105. 합정역 5번출구 앞  37.550007  126.914825     5\n"
     ]
    }
   ],
   "source": [
    "# Import necessary libraries\n",
    "import pandas as pd\n",
    "import numpy as np\n",
    "\n",
    "# Load the datasets (replace with your file paths)\n",
    "bike_rent_1 = pd.read_csv('C:/Users/EL76/sesac/py313/sesac125/Tasks/sesac/bike/data/bike_rent_1.csv')\n",
    "bike_rent_2 = pd.read_csv('C:/Users/EL76/sesac/py313/sesac125/Tasks/sesac/bike/data/bike_rent_2.csv')\n",
    "bike_rent_location = pd.read_excel('C:/Users/EL76/sesac/py313/sesac125/Tasks/sesac/bike/data/bike_rent_location.xlsx')\n",
    "\n",
    "# Check the first few rows of each dataset to understand the structure\n",
    "print(bike_rent_1.head())\n",
    "print(bike_rent_location.head())"
   ]
  },
  {
   "cell_type": "code",
   "execution_count": null,
   "id": "da02db37",
   "metadata": {},
   "outputs": [
    {
     "name": "stdout",
     "output_type": "stream",
     "text": [
      "--- bike_rent_1.csv ---\n",
      "Columns: ['자전거번호', '대여일시', '대여 대여소번호', '대여 대여소명', '이용시간', '이용거리']\n",
      "Dtypes:\n",
      "자전거번호       object\n",
      "대여일시        object\n",
      "대여 대여소번호     int64\n",
      "대여 대여소명     object\n",
      "이용시간         int64\n",
      "이용거리         int64\n",
      "dtype: object\n",
      "\n",
      "--- bike_rent_2.csv ---\n",
      "Columns: ['자전거번호', '대여일시', '대여 대여소번호', '대여 대여소명', '이용시간', '이용거리']\n",
      "Dtypes:\n",
      "자전거번호       object\n",
      "대여일시        object\n",
      "대여 대여소번호     int64\n",
      "대여 대여소명     object\n",
      "이용시간         int64\n",
      "이용거리         int64\n",
      "dtype: object\n",
      "\n",
      "--- bike_rent_3.csv ---\n",
      "Columns: ['자전거번호', '대여일시', '대여 대여소번호', '대여 대여소명', '이용시간', '이용거리']\n",
      "Dtypes:\n",
      "자전거번호       object\n",
      "대여일시        object\n",
      "대여 대여소번호     int64\n",
      "대여 대여소명     object\n",
      "이용시간         int64\n",
      "이용거리         int64\n",
      "dtype: object\n",
      "\n",
      "--- bike_rent_4.csv ---\n",
      "Columns: ['자전거번호', '대여일시', '대여 대여소번호', '대여 대여소명', '이용시간', '이용거리']\n",
      "Dtypes:\n",
      "자전거번호       object\n",
      "대여일시        object\n",
      "대여 대여소번호     int64\n",
      "대여 대여소명     object\n",
      "이용시간         int64\n",
      "이용거리         int64\n",
      "dtype: object\n",
      "\n",
      "--- bike_rent_5.csv ---\n",
      "Columns: ['자전거번호', '대여일시', '대여 대여소번호', '대여 대여소명', '이용시간', '이용거리']\n",
      "Dtypes:\n",
      "자전거번호       object\n",
      "대여일시        object\n",
      "대여 대여소번호     int64\n",
      "대여 대여소명     object\n",
      "이용시간         int64\n",
      "이용거리         int64\n",
      "dtype: object\n",
      "\n",
      "--- bike_rent_6.csv ---\n",
      "Columns: ['자전거번호', '대여일시', '대여 대여소번호', '대여 대여소명', '이용시간', '이용거리']\n",
      "Dtypes:\n",
      "자전거번호       object\n",
      "대여일시        object\n",
      "대여 대여소번호     int64\n",
      "대여 대여소명     object\n",
      "이용시간         int64\n",
      "이용거리         int64\n",
      "dtype: object\n",
      "\n"
     ]
    }
   ],
   "source": [
    "# 자료들이 같은 구조이며 따라서 merge할 수 있는지 파악\n",
    "\n",
    "file_paths = [\n",
    "    \"C:/Users/EL76/sesac/py313/sesac125/Tasks/sesac/bike/data/bike_rent_1.csv\",\n",
    "    \"C:/Users/EL76/sesac/py313/sesac125/Tasks/sesac/bike/data/bike_rent_2.csv\",\n",
    "    \"C:/Users/EL76/sesac/py313/sesac125/Tasks/sesac/bike/data/bike_rent_3.csv\",\n",
    "    \"C:/Users/EL76/sesac/py313/sesac125/Tasks/sesac/bike/data/bike_rent_4.csv\",\n",
    "    \"C:/Users/EL76/sesac/py313/sesac125/Tasks/sesac/bike/data/bike_rent_5.csv\",\n",
    "    \"C:/Users/EL76/sesac/py313/sesac125/Tasks/sesac/bike/data/bike_rent_6.csv\",\n",
    "]\n",
    "\n",
    "for i, path in enumerate(file_paths, 1):\n",
    "    df = pd.read_csv(path, nrows=5)  # You can check the structure even if you read only these parts\n",
    "\n",
    "\n",
    "\n",
    "\n",
    "\n",
    "    print(f\"--- bike_rent_{i}.csv ---\")\n",
    "    print(\"Columns:\", df.columns.tolist())\n",
    "    print(\"Dtypes:\")\n",
    "    print(df.dtypes)\n",
    "    print()"
   ]
  },
  {
   "cell_type": "code",
   "execution_count": 22,
   "id": "3ab393fc",
   "metadata": {},
   "outputs": [
    {
     "name": "stdout",
     "output_type": "stream",
     "text": [
      "       자전거번호             대여일시  대여 대여소번호            대여 대여소명  이용시간  이용거리\n",
      "0  SPB-22040  2019-06-03 8:49       646  장한평역 1번출구 (국민은행앞)    27  1330\n",
      "1  SPB-07446  2019-06-03 8:33       526           용답토속공원 앞    54  1180\n",
      "2  SPB-20387  2019-06-05 8:27       646  장한평역 1번출구 (국민은행앞)    12  1930\n",
      "3  SPB-16794  2019-06-05 8:46       646  장한평역 1번출구 (국민은행앞)     6  1340\n",
      "4  SPB-18266  2019-06-10 8:27       529       장한평역 8번 출구 앞     5  1230\n",
      "            자전거번호              대여일시      대여 대여소번호        대여 대여소명  \\\n",
      "count     2215632           2215632  2.215632e+06        2215632   \n",
      "unique      19029             42853           NaN           1543   \n",
      "top     SPB-17237  2019-06-03 18:07           NaN  뚝섬유원지역 1번출구 앞   \n",
      "freq          292               266           NaN          12617   \n",
      "mean          NaN               NaN  1.226154e+03            NaN   \n",
      "std           NaN               NaN  8.499197e+02            NaN   \n",
      "min           NaN               NaN  3.000000e+00            NaN   \n",
      "25%           NaN               NaN  5.050000e+02            NaN   \n",
      "50%           NaN               NaN  1.159000e+03            NaN   \n",
      "75%           NaN               NaN  1.846000e+03            NaN   \n",
      "max           NaN               NaN  9.998000e+03            NaN   \n",
      "\n",
      "                이용시간          이용거리  \n",
      "count   2.215632e+06  2.215632e+06  \n",
      "unique           NaN           NaN  \n",
      "top              NaN           NaN  \n",
      "freq             NaN           NaN  \n",
      "mean    2.716998e+01  3.912916e+03  \n",
      "std     2.908119e+01  5.145471e+03  \n",
      "min     1.000000e+00  0.000000e+00  \n",
      "25%     8.000000e+00  1.220000e+03  \n",
      "50%     1.700000e+01  2.270000e+03  \n",
      "75%     3.700000e+01  4.670000e+03  \n",
      "max     3.133000e+03  2.323100e+05  \n"
     ]
    }
   ],
   "source": [
    "# 1. 여러 CSV 파일을 하나로 합치기 \n",
    "csv_files = [\n",
    "    \"sesac/bike/data/bike_rent_1.csv\",\n",
    "    \"sesac/bike/data/bike_rent_2.csv\",\n",
    "    \"sesac/bike/data/bike_rent_3.csv\",\n",
    "    \"sesac/bike/data/bike_rent_4.csv\",\n",
    "    \"sesac/bike/data/bike_rent_5.csv\",\n",
    "    \"sesac/bike/data/bike_rent_6.csv\",\n",
    "]\n",
    "\n",
    "bike_data = pd.concat([pd.read_csv(f) for f in csv_files], ignore_index=True)\n",
    "\n",
    "# bike_data 상, 하위 5개 행 출력\n",
    "print(bike_data.head())\n",
    "\n",
    "# bike_data의 describe 정보 출력\n",
    "print(bike_data.describe(include='all'))\n"
   ]
  },
  {
   "cell_type": "markdown",
   "id": "dde79640",
   "metadata": {},
   "source": [
    "### ②결측치 처리"
   ]
  },
  {
   "cell_type": "code",
   "execution_count": 12,
   "id": "bce94981",
   "metadata": {},
   "outputs": [
    {
     "name": "stdout",
     "output_type": "stream",
     "text": [
      "<class 'pandas.core.frame.DataFrame'>\n",
      "RangeIndex: 2215632 entries, 0 to 2215631\n",
      "Data columns (total 6 columns):\n",
      " #   Column    Dtype \n",
      "---  ------    ----- \n",
      " 0   자전거번호     object\n",
      " 1   대여일시      object\n",
      " 2   대여 대여소번호  int64 \n",
      " 3   대여 대여소명   object\n",
      " 4   이용시간      int64 \n",
      " 5   이용거리      int64 \n",
      "dtypes: int64(3), object(3)\n",
      "memory usage: 101.4+ MB\n",
      "None\n",
      "자전거번호       0\n",
      "대여일시        0\n",
      "대여 대여소번호    0\n",
      "대여 대여소명     0\n",
      "이용시간        0\n",
      "이용거리        0\n",
      "dtype: int64\n"
     ]
    }
   ],
   "source": [
    "print(bike_data.info())\n",
    "print(bike_data.isnull().sum())"
   ]
  },
  {
   "cell_type": "code",
   "execution_count": 14,
   "id": "36d9df86",
   "metadata": {},
   "outputs": [
    {
     "name": "stdout",
     "output_type": "stream",
     "text": [
      "자전거번호 - 'null': 0\n",
      "자전거번호 - 'NULL': 0\n",
      "자전거번호 - 빈 문자열: 0\n",
      "대여일시 - 'null': 0\n",
      "대여일시 - 'NULL': 0\n",
      "대여일시 - 빈 문자열: 0\n",
      "대여 대여소번호 - 'null': 0\n",
      "대여 대여소번호 - 'NULL': 0\n",
      "대여 대여소번호 - 빈 문자열: 0\n",
      "대여 대여소명 - 'null': 0\n",
      "대여 대여소명 - 'NULL': 0\n",
      "대여 대여소명 - 빈 문자열: 0\n",
      "이용시간 - 'null': 0\n",
      "이용시간 - 'NULL': 0\n",
      "이용시간 - 빈 문자열: 0\n",
      "이용거리 - 'null': 0\n",
      "이용거리 - 'NULL': 0\n",
      "이용거리 - 빈 문자열: 0\n"
     ]
    }
   ],
   "source": [
    "# 'null', 'NULL', ''(빈 문자열) 등 문자열 결측치 체크 \n",
    "# NaN, None은 isnull로 이미 확인\n",
    "for col in bike_data.columns:\n",
    "    print(f\"{col} - 'null':\", (bike_data[col] == 'null').sum())\n",
    "    print(f\"{col} - 'NULL':\", (bike_data[col] == 'NULL').sum())\n",
    "    print(f\"{col} - 빈 문자열:\", (bike_data[col] == '').sum())"
   ]
  },
  {
   "cell_type": "markdown",
   "id": "82cfbd59",
   "metadata": {},
   "source": [
    "### ③시간 정보 추가"
   ]
  },
  {
   "cell_type": "code",
   "execution_count": 34,
   "id": "a9b312bd",
   "metadata": {},
   "outputs": [],
   "source": [
    "bike_data = bike_data.drop(columns=['hour', 'weekday', 'month', 'weekend', '주말'], errors='ignore')"
   ]
  },
  {
   "cell_type": "code",
   "execution_count": 32,
   "id": "9480efa2",
   "metadata": {},
   "outputs": [
    {
     "name": "stdout",
     "output_type": "stream",
     "text": [
      "최소 연도: 2019\n",
      "최대 연도: 2019\n"
     ]
    }
   ],
   "source": [
    "bike_data['대여일시'] = pd.to_datetime(bike_data['대여일시'])\n",
    "\n",
    "# '대여일시' 컬럼에서 연도 범위 확인\n",
    "print(\"최소 연도:\", bike_data['대여일시'].dt.year.min())\n",
    "print(\"최대 연도:\", bike_data['대여일시'].dt.year.max())"
   ]
  },
  {
   "cell_type": "code",
   "execution_count": 35,
   "id": "4c146afa",
   "metadata": {},
   "outputs": [
    {
     "name": "stdout",
     "output_type": "stream",
     "text": [
      "자전거번호       0\n",
      "대여일시        0\n",
      "대여 대여소번호    0\n",
      "대여 대여소명     0\n",
      "이용시간        0\n",
      "이용거리        0\n",
      "시간          0\n",
      "요일          0\n",
      "월           0\n",
      "일           0\n",
      "dtype: int64\n"
     ]
    }
   ],
   "source": [
    "# 시간 관련 컬럼을 추가\n",
    "bike_data['월'] = bike_data['대여일시'].dt.month\n",
    "bike_data['일'] = bike_data['대여일시'].dt.day\n",
    "bike_data['시간'] = bike_data['대여일시'].dt.hour\n",
    "\n",
    "# '대여일시'에서 요일 추출 (월:0, 화:1, ..., 일:6)\n",
    "bike_data['요일'] = bike_data['대여일시'].dt.dayofweek\n",
    "\n",
    "# 결측치 확인\n",
    "print(bike_data.isnull().sum())"
   ]
  },
  {
   "cell_type": "code",
   "execution_count": null,
   "id": "b4a06596",
   "metadata": {},
   "outputs": [
    {
     "name": "stdout",
     "output_type": "stream",
     "text": [
      "   이용시간  이용시간(시간)\n",
      "0    27  0.450000\n",
      "1    54  0.900000\n",
      "2    12  0.200000\n",
      "3     6  0.100000\n",
      "4     5  0.083333\n"
     ]
    }
   ],
   "source": [
    "# '이용시간' 컬럼(분 단위)을 시간 단위로 변환 및 결과 확인인\n",
    "bike_data['이용시간(시간)'] = bike_data['이용시간'].apply(lambda x: x / 60)\n",
    "\n",
    "print(bike_data[['이용시간', '이용시간(시간)']].head())"
   ]
  },
  {
   "cell_type": "code",
   "execution_count": 37,
   "id": "96618639",
   "metadata": {},
   "outputs": [
    {
     "ename": "AttributeError",
     "evalue": "'DataFrame' object has no attribute 'xlsx'",
     "output_type": "error",
     "traceback": [
      "\u001b[31m---------------------------------------------------------------------------\u001b[39m",
      "\u001b[31mAttributeError\u001b[39m                            Traceback (most recent call last)",
      "\u001b[32mC:\\Users\\Public\\Documents\\ESTsoft\\CreatorTemp\\ipykernel_16020\\2266000821.py\u001b[39m in \u001b[36m?\u001b[39m\u001b[34m()\u001b[39m\n\u001b[32m      1\u001b[39m \u001b[38;5;66;03m# bike_rent_location.xlsx 읽어들이기\u001b[39;00m\n\u001b[32m----> \u001b[39m\u001b[32m2\u001b[39m bike_shop = pd.read_excel(bike_rent_location.xlsx)\n",
      "\u001b[32mc:\\Users\\EL76\\anaconda3\\envs\\py313\\Lib\\site-packages\\pandas\\core\\generic.py\u001b[39m in \u001b[36m?\u001b[39m\u001b[34m(self, name)\u001b[39m\n\u001b[32m   6295\u001b[39m             \u001b[38;5;28;01mand\u001b[39;00m name \u001b[38;5;28;01mnot\u001b[39;00m \u001b[38;5;28;01min\u001b[39;00m self._accessors\n\u001b[32m   6296\u001b[39m             \u001b[38;5;28;01mand\u001b[39;00m self._info_axis._can_hold_identifiers_and_holds_name(name)\n\u001b[32m   6297\u001b[39m         ):\n\u001b[32m   6298\u001b[39m             \u001b[38;5;28;01mreturn\u001b[39;00m self[name]\n\u001b[32m-> \u001b[39m\u001b[32m6299\u001b[39m         \u001b[38;5;28;01mreturn\u001b[39;00m object.__getattribute__(self, name)\n",
      "\u001b[31mAttributeError\u001b[39m: 'DataFrame' object has no attribute 'xlsx'"
     ]
    }
   ],
   "source": [
    "# bike_rent_location.xlsx 읽어들이기\n",
    "bike_shop = pd.read_excel(bike_rent_location.xlsx)\n",
    "\n",
    "bike_shop.head()"
   ]
  }
 ],
 "metadata": {
  "kernelspec": {
   "display_name": "py313",
   "language": "python",
   "name": "python3"
  },
  "language_info": {
   "codemirror_mode": {
    "name": "ipython",
    "version": 3
   },
   "file_extension": ".py",
   "mimetype": "text/x-python",
   "name": "python",
   "nbconvert_exporter": "python",
   "pygments_lexer": "ipython3",
   "version": "3.13.2"
  }
 },
 "nbformat": 4,
 "nbformat_minor": 5
}
